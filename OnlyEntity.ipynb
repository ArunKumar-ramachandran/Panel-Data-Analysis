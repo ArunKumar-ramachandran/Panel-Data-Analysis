{
 "cells": [
  {
   "cell_type": "code",
   "execution_count": 1,
   "metadata": {},
   "outputs": [],
   "source": [
    "import numpy as np\n",
    "import pandas as pd\n",
    "import matplotlib.pyplot as plt\n",
    "import seaborn as sns"
   ]
  },
  {
   "cell_type": "code",
   "execution_count": 14,
   "metadata": {},
   "outputs": [
    {
     "data": {
      "text/html": [
       "<div>\n",
       "<style scoped>\n",
       "    .dataframe tbody tr th:only-of-type {\n",
       "        vertical-align: middle;\n",
       "    }\n",
       "\n",
       "    .dataframe tbody tr th {\n",
       "        vertical-align: top;\n",
       "    }\n",
       "\n",
       "    .dataframe thead th {\n",
       "        text-align: right;\n",
       "    }\n",
       "</style>\n",
       "<table border=\"1\" class=\"dataframe\">\n",
       "  <thead>\n",
       "    <tr style=\"text-align: right;\">\n",
       "      <th></th>\n",
       "      <th>Country</th>\n",
       "      <th>Year</th>\n",
       "      <th>gdp_per_capita ($)</th>\n",
       "      <th>suicides/100k pop</th>\n",
       "      <th>Female</th>\n",
       "      <th>Male</th>\n",
       "      <th>SEX Ratio</th>\n",
       "      <th>Year_2001</th>\n",
       "      <th>Year_2011</th>\n",
       "    </tr>\n",
       "  </thead>\n",
       "  <tbody>\n",
       "    <tr>\n",
       "      <td>0</td>\n",
       "      <td>Argentina</td>\n",
       "      <td>1991</td>\n",
       "      <td>6404</td>\n",
       "      <td>9.936667</td>\n",
       "      <td>15133000</td>\n",
       "      <td>14490000</td>\n",
       "      <td>0.957510</td>\n",
       "      <td>0</td>\n",
       "      <td>0</td>\n",
       "    </tr>\n",
       "    <tr>\n",
       "      <td>1</td>\n",
       "      <td>Argentina</td>\n",
       "      <td>2001</td>\n",
       "      <td>7900</td>\n",
       "      <td>11.963333</td>\n",
       "      <td>17438298</td>\n",
       "      <td>16572648</td>\n",
       "      <td>0.950359</td>\n",
       "      <td>1</td>\n",
       "      <td>0</td>\n",
       "    </tr>\n",
       "    <tr>\n",
       "      <td>2</td>\n",
       "      <td>Argentina</td>\n",
       "      <td>2011</td>\n",
       "      <td>13946</td>\n",
       "      <td>8.822500</td>\n",
       "      <td>19491572</td>\n",
       "      <td>18524167</td>\n",
       "      <td>0.950368</td>\n",
       "      <td>0</td>\n",
       "      <td>1</td>\n",
       "    </tr>\n",
       "    <tr>\n",
       "      <td>3</td>\n",
       "      <td>Austria</td>\n",
       "      <td>1991</td>\n",
       "      <td>23808</td>\n",
       "      <td>29.622500</td>\n",
       "      <td>3812047</td>\n",
       "      <td>3487681</td>\n",
       "      <td>0.914910</td>\n",
       "      <td>0</td>\n",
       "      <td>0</td>\n",
       "    </tr>\n",
       "    <tr>\n",
       "      <td>4</td>\n",
       "      <td>Austria</td>\n",
       "      <td>2001</td>\n",
       "      <td>25848</td>\n",
       "      <td>21.825833</td>\n",
       "      <td>3949662</td>\n",
       "      <td>3684898</td>\n",
       "      <td>0.932965</td>\n",
       "      <td>1</td>\n",
       "      <td>0</td>\n",
       "    </tr>\n",
       "  </tbody>\n",
       "</table>\n",
       "</div>"
      ],
      "text/plain": [
       "     Country  Year  gdp_per_capita ($)  suicides/100k pop    Female      Male  \\\n",
       "0  Argentina  1991                6404           9.936667  15133000  14490000   \n",
       "1  Argentina  2001                7900          11.963333  17438298  16572648   \n",
       "2  Argentina  2011               13946           8.822500  19491572  18524167   \n",
       "3    Austria  1991               23808          29.622500   3812047   3487681   \n",
       "4    Austria  2001               25848          21.825833   3949662   3684898   \n",
       "\n",
       "   SEX Ratio  Year_2001  Year_2011  \n",
       "0   0.957510          0          0  \n",
       "1   0.950359          1          0  \n",
       "2   0.950368          0          1  \n",
       "3   0.914910          0          0  \n",
       "4   0.932965          1          0  "
      ]
     },
     "execution_count": 14,
     "metadata": {},
     "output_type": "execute_result"
    }
   ],
   "source": [
    "df = pd.read_excel(\"Preprocesseddata.xlsx\",sheet_name= \"Sheet9\")\n",
    "Original = df.copy()\n",
    "df.head()\n"
   ]
  },
  {
   "cell_type": "code",
   "execution_count": 15,
   "metadata": {},
   "outputs": [
    {
     "name": "stdout",
     "output_type": "stream",
     "text": [
      "                gdp_per_capita ($)  suicides/100k pop    Female      Male  \\\n",
      "Country   Year                                                              \n",
      "Argentina 1991                6404           9.936667  15133000  14490000   \n",
      "          2001                7900          11.963333  17438298  16572648   \n",
      "          2011               13946           8.822500  19491572  18524167   \n",
      "Austria   1991               23808          29.622500   3812047   3487681   \n",
      "          2001               25848          21.825833   3949662   3684898   \n",
      "\n",
      "                SEX Ratio  Year_2001  Year_2011  \n",
      "Country   Year                                   \n",
      "Argentina 1991   0.957510          0          0  \n",
      "          2001   0.950359          1          0  \n",
      "          2011   0.950368          0          1  \n",
      "Austria   1991   0.914910          0          0  \n",
      "          2001   0.932965          1          0  \n"
     ]
    }
   ],
   "source": [
    "mi_data = df.set_index(['Country', 'Year'])\n",
    "print(mi_data.head())"
   ]
  },
  {
   "cell_type": "markdown",
   "metadata": {},
   "source": [
    "# Models with only entity effects"
   ]
  },
  {
   "cell_type": "code",
   "execution_count": 16,
   "metadata": {},
   "outputs": [
    {
     "name": "stdout",
     "output_type": "stream",
     "text": [
      "                          PanelOLS Estimation Summary                           \n",
      "================================================================================\n",
      "Dep. Variable:      suicides/100k pop   R-squared:                        0.3828\n",
      "Estimator:                   PanelOLS   R-squared (Between):              0.5025\n",
      "No. Observations:                 117   R-squared (Within):              -2.8082\n",
      "Date:                Sun, Jun 07 2020   R-squared (Overall):              0.3828\n",
      "Time:                        21:20:23   Log-likelihood                   -459.50\n",
      "Cov. Estimator:            Unadjusted                                           \n",
      "                                        F-statistic:                      71.960\n",
      "Entities:                          39   P-value                           0.0000\n",
      "Avg Obs:                       3.0000   Distribution:                   F(1,116)\n",
      "Min Obs:                       3.0000                                           \n",
      "Max Obs:                       3.0000   F-statistic (robust):             71.960\n",
      "                                        P-value                           0.0000\n",
      "Time periods:                       3   Distribution:                   F(1,116)\n",
      "Avg Obs:                       39.000                                           \n",
      "Min Obs:                       39.000                                           \n",
      "Max Obs:                       39.000                                           \n",
      "                                                                                \n",
      "                                 Parameter Estimates                                  \n",
      "======================================================================================\n",
      "                    Parameter  Std. Err.     T-stat    P-value    Lower CI    Upper CI\n",
      "--------------------------------------------------------------------------------------\n",
      "gdp_per_capita ($)     0.0004   4.25e-05     8.4829     0.0000      0.0003      0.0004\n",
      "======================================================================================\n",
      "\n",
      "\n"
     ]
    }
   ],
   "source": [
    "from linearmodels import PanelOLS\n",
    "import statsmodels.api as sm\n",
    "\n",
    "X = mi_data[\"suicides/100k pop\"]\n",
    "Y = mi_data[\"gdp_per_capita ($)\"]\n",
    "\n",
    "#X = sm.add_constant(X)\n",
    "mod = PanelOLS(X,Y)\n",
    "print(mod.fit())"
   ]
  },
  {
   "cell_type": "code",
   "execution_count": 17,
   "metadata": {},
   "outputs": [
    {
     "name": "stdout",
     "output_type": "stream",
     "text": [
      "                          PanelOLS Estimation Summary                           \n",
      "================================================================================\n",
      "Dep. Variable:      suicides/100k pop   R-squared:                        0.2154\n",
      "Estimator:                   PanelOLS   R-squared (Between):             -0.3499\n",
      "No. Observations:                 117   R-squared (Within):               0.2154\n",
      "Date:                Sun, Jun 07 2020   R-squared (Overall):             -0.3295\n",
      "Time:                        21:20:35   Log-likelihood                   -279.30\n",
      "Cov. Estimator:             Clustered                                           \n",
      "                                        F-statistic:                      21.135\n",
      "Entities:                          39   P-value                           0.0000\n",
      "Avg Obs:                       3.0000   Distribution:                    F(1,77)\n",
      "Min Obs:                       3.0000                                           \n",
      "Max Obs:                       3.0000   F-statistic (robust):             18.345\n",
      "                                        P-value                           0.0001\n",
      "Time periods:                       3   Distribution:                    F(1,77)\n",
      "Avg Obs:                       39.000                                           \n",
      "Min Obs:                       39.000                                           \n",
      "Max Obs:                       39.000                                           \n",
      "                                                                                \n",
      "                                 Parameter Estimates                                  \n",
      "======================================================================================\n",
      "                    Parameter  Std. Err.     T-stat    P-value    Lower CI    Upper CI\n",
      "--------------------------------------------------------------------------------------\n",
      "gdp_per_capita ($)    -0.0001  3.064e-05    -4.2831     0.0001     -0.0002  -7.023e-05\n",
      "======================================================================================\n",
      "\n",
      "F-test for Poolability: 20.175\n",
      "P-value: 0.0000\n",
      "Distribution: F(38,77)\n",
      "\n",
      "Included effects: Entity\n"
     ]
    }
   ],
   "source": [
    "from linearmodels import PanelOLS\n",
    "mod = PanelOLS(mi_data[\"suicides/100k pop\"], mi_data[[\"gdp_per_capita ($)\"]], entity_effects=True)\n",
    "print(mod.fit(cov_type= 'clustered'))"
   ]
  },
  {
   "cell_type": "code",
   "execution_count": 18,
   "metadata": {},
   "outputs": [
    {
     "name": "stdout",
     "output_type": "stream",
     "text": [
      "                          PanelOLS Estimation Summary                           \n",
      "================================================================================\n",
      "Dep. Variable:      suicides/100k pop   R-squared:                        0.0207\n",
      "Estimator:                   PanelOLS   R-squared (Between):              0.1564\n",
      "No. Observations:                 117   R-squared (Within):              -0.3071\n",
      "Date:                Sun, Jun 07 2020   R-squared (Overall):              0.1396\n",
      "Time:                        21:20:49   Log-likelihood                   -416.90\n",
      "Cov. Estimator:            Unadjusted                                           \n",
      "                                        F-statistic:                      2.3843\n",
      "Entities:                          39   P-value                           0.1254\n",
      "Avg Obs:                       3.0000   Distribution:                   F(1,113)\n",
      "Min Obs:                       3.0000                                           \n",
      "Max Obs:                       3.0000   F-statistic (robust):             2.3843\n",
      "                                        P-value                           0.1254\n",
      "Time periods:                       3   Distribution:                   F(1,113)\n",
      "Avg Obs:                       39.000                                           \n",
      "Min Obs:                       39.000                                           \n",
      "Max Obs:                       39.000                                           \n",
      "                                                                                \n",
      "                                 Parameter Estimates                                  \n",
      "======================================================================================\n",
      "                    Parameter  Std. Err.     T-stat    P-value    Lower CI    Upper CI\n",
      "--------------------------------------------------------------------------------------\n",
      "gdp_per_capita ($)  7.317e-05  4.738e-05     1.5441     0.1254  -2.071e-05      0.0002\n",
      "======================================================================================\n",
      "\n",
      "F-test for Poolability: 2.4106\n",
      "P-value: 0.0944\n",
      "Distribution: F(2,113)\n",
      "\n",
      "Included effects: Time\n"
     ]
    }
   ],
   "source": [
    "from linearmodels import PanelOLS\n",
    "mod = PanelOLS(mi_data[\"suicides/100k pop\"], mi_data[[\"gdp_per_capita ($)\"]],time_effects = True)\n",
    "print(mod.fit())"
   ]
  },
  {
   "cell_type": "code",
   "execution_count": 11,
   "metadata": {},
   "outputs": [
    {
     "name": "stdout",
     "output_type": "stream",
     "text": [
      "                          PanelOLS Estimation Summary                           \n",
      "================================================================================\n",
      "Dep. Variable:      suicides/100k pop   R-squared:                        0.0411\n",
      "Estimator:                   PanelOLS   R-squared (Between):             -0.1917\n",
      "No. Observations:                 126   R-squared (Within):               0.1733\n",
      "Date:                Sun, Jun 07 2020   R-squared (Overall):             -0.1789\n",
      "Time:                        20:54:10   Log-likelihood                   -296.87\n",
      "Cov. Estimator:            Unadjusted                                           \n",
      "                                        F-statistic:                      3.4715\n",
      "Entities:                          42   P-value                           0.0661\n",
      "Avg Obs:                       3.0000   Distribution:                    F(1,81)\n",
      "Min Obs:                       3.0000                                           \n",
      "Max Obs:                       3.0000   F-statistic (robust):             3.4715\n",
      "                                        P-value                           0.0661\n",
      "Time periods:                       3   Distribution:                    F(1,81)\n",
      "Avg Obs:                       42.000                                           \n",
      "Min Obs:                       42.000                                           \n",
      "Max Obs:                       42.000                                           \n",
      "                                                                                \n",
      "                                 Parameter Estimates                                  \n",
      "======================================================================================\n",
      "                    Parameter  Std. Err.     T-stat    P-value    Lower CI    Upper CI\n",
      "--------------------------------------------------------------------------------------\n",
      "gdp_per_capita ($) -7.563e-05  4.059e-05    -1.8632     0.0661     -0.0002   5.135e-06\n",
      "======================================================================================\n",
      "\n",
      "F-test for Poolability: 18.626\n",
      "P-value: 0.0000\n",
      "Distribution: F(43,81)\n",
      "\n",
      "Included effects: Entity, Time\n"
     ]
    }
   ],
   "source": [
    "from linearmodels import PanelOLS\n",
    "mod = PanelOLS(mi_data[\"suicides/100k pop\"], mi_data[[\"gdp_per_capita ($)\"]], entity_effects=True,time_effects = True)\n",
    "print(mod.fit())"
   ]
  }
 ],
 "metadata": {
  "kernelspec": {
   "display_name": "Python 3",
   "language": "python",
   "name": "python3"
  },
  "language_info": {
   "codemirror_mode": {
    "name": "ipython",
    "version": 3
   },
   "file_extension": ".py",
   "mimetype": "text/x-python",
   "name": "python",
   "nbconvert_exporter": "python",
   "pygments_lexer": "ipython3",
   "version": "3.7.4"
  }
 },
 "nbformat": 4,
 "nbformat_minor": 2
}
