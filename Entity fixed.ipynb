{
 "cells": [
  {
   "cell_type": "code",
   "execution_count": 1,
   "metadata": {},
   "outputs": [],
   "source": [
    "import numpy as np\n",
    "import pandas as pd\n",
    "import matplotlib.pyplot as plt\n",
    "import seaborn as sns"
   ]
  },
  {
   "cell_type": "code",
   "execution_count": 2,
   "metadata": {},
   "outputs": [
    {
     "data": {
      "text/html": [
       "<div>\n",
       "<style scoped>\n",
       "    .dataframe tbody tr th:only-of-type {\n",
       "        vertical-align: middle;\n",
       "    }\n",
       "\n",
       "    .dataframe tbody tr th {\n",
       "        vertical-align: top;\n",
       "    }\n",
       "\n",
       "    .dataframe thead th {\n",
       "        text-align: right;\n",
       "    }\n",
       "</style>\n",
       "<table border=\"1\" class=\"dataframe\">\n",
       "  <thead>\n",
       "    <tr style=\"text-align: right;\">\n",
       "      <th></th>\n",
       "      <th>Country</th>\n",
       "      <th>Year</th>\n",
       "      <th>gdppercapita</th>\n",
       "      <th>suicidesrate</th>\n",
       "      <th>Female</th>\n",
       "      <th>Male</th>\n",
       "      <th>SEX Ratio</th>\n",
       "    </tr>\n",
       "  </thead>\n",
       "  <tbody>\n",
       "    <tr>\n",
       "      <td>0</td>\n",
       "      <td>Argentina</td>\n",
       "      <td>1991</td>\n",
       "      <td>6404</td>\n",
       "      <td>9.936667</td>\n",
       "      <td>15133000</td>\n",
       "      <td>14490000</td>\n",
       "      <td>0.957510</td>\n",
       "    </tr>\n",
       "    <tr>\n",
       "      <td>1</td>\n",
       "      <td>Argentina</td>\n",
       "      <td>2001</td>\n",
       "      <td>7900</td>\n",
       "      <td>11.963333</td>\n",
       "      <td>17438298</td>\n",
       "      <td>16572648</td>\n",
       "      <td>0.950359</td>\n",
       "    </tr>\n",
       "    <tr>\n",
       "      <td>2</td>\n",
       "      <td>Argentina</td>\n",
       "      <td>2011</td>\n",
       "      <td>13946</td>\n",
       "      <td>8.822500</td>\n",
       "      <td>19491572</td>\n",
       "      <td>18524167</td>\n",
       "      <td>0.950368</td>\n",
       "    </tr>\n",
       "    <tr>\n",
       "      <td>3</td>\n",
       "      <td>Austria</td>\n",
       "      <td>1991</td>\n",
       "      <td>23808</td>\n",
       "      <td>29.622500</td>\n",
       "      <td>3812047</td>\n",
       "      <td>3487681</td>\n",
       "      <td>0.914910</td>\n",
       "    </tr>\n",
       "    <tr>\n",
       "      <td>4</td>\n",
       "      <td>Austria</td>\n",
       "      <td>2001</td>\n",
       "      <td>25848</td>\n",
       "      <td>21.825833</td>\n",
       "      <td>3949662</td>\n",
       "      <td>3684898</td>\n",
       "      <td>0.932965</td>\n",
       "    </tr>\n",
       "  </tbody>\n",
       "</table>\n",
       "</div>"
      ],
      "text/plain": [
       "     Country  Year  gdppercapita  suicidesrate    Female      Male  SEX Ratio\n",
       "0  Argentina  1991          6404      9.936667  15133000  14490000   0.957510\n",
       "1  Argentina  2001          7900     11.963333  17438298  16572648   0.950359\n",
       "2  Argentina  2011         13946      8.822500  19491572  18524167   0.950368\n",
       "3    Austria  1991         23808     29.622500   3812047   3487681   0.914910\n",
       "4    Austria  2001         25848     21.825833   3949662   3684898   0.932965"
      ]
     },
     "execution_count": 2,
     "metadata": {},
     "output_type": "execute_result"
    }
   ],
   "source": [
    "df = pd.read_excel(\"Finaldata.xlsx\")\n",
    "Original = df.copy()\n",
    "df.head()\n"
   ]
  },
  {
   "cell_type": "code",
   "execution_count": 3,
   "metadata": {},
   "outputs": [
    {
     "name": "stdout",
     "output_type": "stream",
     "text": [
      "                gdppercapita  suicidesrate    Female      Male  SEX Ratio\n",
      "Country   Year                                                           \n",
      "Argentina 1991          6404      9.936667  15133000  14490000   0.957510\n",
      "          2001          7900     11.963333  17438298  16572648   0.950359\n",
      "          2011         13946      8.822500  19491572  18524167   0.950368\n",
      "Austria   1991         23808     29.622500   3812047   3487681   0.914910\n",
      "          2001         25848     21.825833   3949662   3684898   0.932965\n"
     ]
    }
   ],
   "source": [
    "mi_data = df.set_index(['Country', 'Year'])\n",
    "print(mi_data.head())"
   ]
  },
  {
   "cell_type": "markdown",
   "metadata": {},
   "source": [
    "# Model 1 - Panel data regression"
   ]
  },
  {
   "cell_type": "code",
   "execution_count": 5,
   "metadata": {},
   "outputs": [
    {
     "name": "stdout",
     "output_type": "stream",
     "text": [
      "                          PanelOLS Estimation Summary                           \n",
      "================================================================================\n",
      "Dep. Variable:           suicidesrate   R-squared:                        0.2154\n",
      "Estimator:                   PanelOLS   R-squared (Between):             -0.3499\n",
      "No. Observations:                 117   R-squared (Within):               0.2154\n",
      "Date:                Wed, Jun 10 2020   R-squared (Overall):             -0.3295\n",
      "Time:                        14:04:42   Log-likelihood                   -279.30\n",
      "Cov. Estimator:            Unadjusted                                           \n",
      "                                        F-statistic:                      21.135\n",
      "Entities:                          39   P-value                           0.0000\n",
      "Avg Obs:                       3.0000   Distribution:                    F(1,77)\n",
      "Min Obs:                       3.0000                                           \n",
      "Max Obs:                       3.0000   F-statistic (robust):             21.135\n",
      "                                        P-value                           0.0000\n",
      "Time periods:                       3   Distribution:                    F(1,77)\n",
      "Avg Obs:                       39.000                                           \n",
      "Min Obs:                       39.000                                           \n",
      "Max Obs:                       39.000                                           \n",
      "                                                                                \n",
      "                              Parameter Estimates                               \n",
      "================================================================================\n",
      "              Parameter  Std. Err.     T-stat    P-value    Lower CI    Upper CI\n",
      "--------------------------------------------------------------------------------\n",
      "gdppercapita    -0.0001  2.855e-05    -4.5973     0.0000     -0.0002   -7.44e-05\n",
      "================================================================================\n",
      "\n",
      "F-test for Poolability: 20.175\n",
      "P-value: 0.0000\n",
      "Distribution: F(38,77)\n",
      "\n",
      "Included effects: Entity\n"
     ]
    }
   ],
   "source": [
    "from linearmodels import PanelOLS\n",
    "import statsmodels.api as sm\n",
    "\n",
    "X = mi_data[\"suicidesrate\"]\n",
    "Y = mi_data[\"gdppercapita\"]\n",
    "\n",
    "#X = sm.add_constant(X)\n",
    "mod = PanelOLS(X,Y, entity_effects=True)\n",
    "print(mod.fit())"
   ]
  },
  {
   "cell_type": "markdown",
   "metadata": {},
   "source": [
    "# Model 1 - Panel data regression with sex ratio as a independent variable"
   ]
  },
  {
   "cell_type": "code",
   "execution_count": 8,
   "metadata": {},
   "outputs": [
    {
     "name": "stdout",
     "output_type": "stream",
     "text": [
      "                          PanelOLS Estimation Summary                           \n",
      "================================================================================\n",
      "Dep. Variable:           gdppercapita   R-squared:                        0.2314\n",
      "Estimator:                   PanelOLS   R-squared (Between):             -12.684\n",
      "No. Observations:                 117   R-squared (Within):               0.2314\n",
      "Date:                Wed, Jun 10 2020   R-squared (Overall):             -10.703\n",
      "Time:                        14:06:50   Log-likelihood                   -1234.1\n",
      "Cov. Estimator:            Unadjusted                                           \n",
      "                                        F-statistic:                      11.441\n",
      "Entities:                          39   P-value                           0.0000\n",
      "Avg Obs:                       3.0000   Distribution:                    F(2,76)\n",
      "Min Obs:                       3.0000                                           \n",
      "Max Obs:                       3.0000   F-statistic (robust):             11.441\n",
      "                                        P-value                           0.0000\n",
      "Time periods:                       3   Distribution:                    F(2,76)\n",
      "Avg Obs:                       39.000                                           \n",
      "Min Obs:                       39.000                                           \n",
      "Max Obs:                       39.000                                           \n",
      "                                                                                \n",
      "                              Parameter Estimates                               \n",
      "================================================================================\n",
      "              Parameter  Std. Err.     T-stat    P-value    Lower CI    Upper CI\n",
      "--------------------------------------------------------------------------------\n",
      "suicidesrate    -1668.1     356.24    -4.6827     0.0000     -2377.6     -958.63\n",
      "SEX Ratio     1.346e+05  1.068e+05     1.2598     0.2116  -7.817e+04   3.473e+05\n",
      "================================================================================\n",
      "\n",
      "F-test for Poolability: 6.0378\n",
      "P-value: 0.0000\n",
      "Distribution: F(38,76)\n",
      "\n",
      "Included effects: Entity\n"
     ]
    }
   ],
   "source": [
    "from linearmodels import PanelOLS\n",
    "\n",
    "X = mi_data[[\"suicidesrate\",\"SEX Ratio\"]]\n",
    "Y = mi_data[\"gdppercapita\"]\n",
    "\n",
    "#X = sm.add_constant(X)\n",
    "mod = PanelOLS(Y,X,entity_effects=True)\n",
    "\n",
    "print(mod.fit())"
   ]
  }
 ],
 "metadata": {
  "kernelspec": {
   "display_name": "Python 3",
   "language": "python",
   "name": "python3"
  },
  "language_info": {
   "codemirror_mode": {
    "name": "ipython",
    "version": 3
   },
   "file_extension": ".py",
   "mimetype": "text/x-python",
   "name": "python",
   "nbconvert_exporter": "python",
   "pygments_lexer": "ipython3",
   "version": "3.7.4"
  }
 },
 "nbformat": 4,
 "nbformat_minor": 2
}
