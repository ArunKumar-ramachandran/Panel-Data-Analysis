{
 "cells": [
  {
   "cell_type": "markdown",
   "metadata": {},
   "source": [
    "# Importing libraries"
   ]
  },
  {
   "cell_type": "code",
   "execution_count": 2,
   "metadata": {},
   "outputs": [],
   "source": [
    "import numpy as np\n",
    "import pandas as pd\n",
    "import matplotlib.pyplot as plt\n",
    "import seaborn as sns"
   ]
  },
  {
   "cell_type": "markdown",
   "metadata": {},
   "source": [
    "# Importing dataset"
   ]
  },
  {
   "cell_type": "code",
   "execution_count": 8,
   "metadata": {},
   "outputs": [
    {
     "data": {
      "text/html": [
       "<div>\n",
       "<style scoped>\n",
       "    .dataframe tbody tr th:only-of-type {\n",
       "        vertical-align: middle;\n",
       "    }\n",
       "\n",
       "    .dataframe tbody tr th {\n",
       "        vertical-align: top;\n",
       "    }\n",
       "\n",
       "    .dataframe thead th {\n",
       "        text-align: right;\n",
       "    }\n",
       "</style>\n",
       "<table border=\"1\" class=\"dataframe\">\n",
       "  <thead>\n",
       "    <tr style=\"text-align: right;\">\n",
       "      <th></th>\n",
       "      <th>Country</th>\n",
       "      <th>gdp_per_capita ($)_1991</th>\n",
       "      <th>suicides/100k pop_1991</th>\n",
       "      <th>gdp_per_capita ($)_2011</th>\n",
       "      <th>suicides/100k pop_2011</th>\n",
       "      <th>Change in gdp_per_capita(2011 -1991)</th>\n",
       "      <th>Change in Suicide rate(2011 -1991)</th>\n",
       "    </tr>\n",
       "  </thead>\n",
       "  <tbody>\n",
       "    <tr>\n",
       "      <td>0</td>\n",
       "      <td>Argentina</td>\n",
       "      <td>6404</td>\n",
       "      <td>9.936667</td>\n",
       "      <td>13946</td>\n",
       "      <td>8.822500</td>\n",
       "      <td>7542</td>\n",
       "      <td>-1.114167</td>\n",
       "    </tr>\n",
       "    <tr>\n",
       "      <td>1</td>\n",
       "      <td>Austria</td>\n",
       "      <td>23808</td>\n",
       "      <td>29.622500</td>\n",
       "      <td>53923</td>\n",
       "      <td>17.624167</td>\n",
       "      <td>30115</td>\n",
       "      <td>-11.998333</td>\n",
       "    </tr>\n",
       "    <tr>\n",
       "      <td>2</td>\n",
       "      <td>Barbados</td>\n",
       "      <td>8469</td>\n",
       "      <td>6.410833</td>\n",
       "      <td>17708</td>\n",
       "      <td>0.000000</td>\n",
       "      <td>9239</td>\n",
       "      <td>-6.410833</td>\n",
       "    </tr>\n",
       "    <tr>\n",
       "      <td>3</td>\n",
       "      <td>Belgium</td>\n",
       "      <td>22523</td>\n",
       "      <td>22.001667</td>\n",
       "      <td>50893</td>\n",
       "      <td>18.892500</td>\n",
       "      <td>28370</td>\n",
       "      <td>-3.109167</td>\n",
       "    </tr>\n",
       "    <tr>\n",
       "      <td>4</td>\n",
       "      <td>Brazil</td>\n",
       "      <td>4490</td>\n",
       "      <td>5.695000</td>\n",
       "      <td>14245</td>\n",
       "      <td>6.034167</td>\n",
       "      <td>9755</td>\n",
       "      <td>0.339167</td>\n",
       "    </tr>\n",
       "  </tbody>\n",
       "</table>\n",
       "</div>"
      ],
      "text/plain": [
       "     Country   gdp_per_capita ($)_1991  suicides/100k pop_1991  \\\n",
       "0  Argentina                      6404                9.936667   \n",
       "1    Austria                     23808               29.622500   \n",
       "2   Barbados                      8469                6.410833   \n",
       "3    Belgium                     22523               22.001667   \n",
       "4     Brazil                      4490                5.695000   \n",
       "\n",
       "    gdp_per_capita ($)_2011  suicides/100k pop_2011  \\\n",
       "0                     13946                8.822500   \n",
       "1                     53923               17.624167   \n",
       "2                     17708                0.000000   \n",
       "3                     50893               18.892500   \n",
       "4                     14245                6.034167   \n",
       "\n",
       "   Change in gdp_per_capita(2011 -1991)  Change in Suicide rate(2011 -1991)  \n",
       "0                                  7542                           -1.114167  \n",
       "1                                 30115                          -11.998333  \n",
       "2                                  9239                           -6.410833  \n",
       "3                                 28370                           -3.109167  \n",
       "4                                  9755                            0.339167  "
      ]
     },
     "execution_count": 8,
     "metadata": {},
     "output_type": "execute_result"
    }
   ],
   "source": [
    "df = pd.read_excel(\"Preprocesseddata.xlsx\",sheet_name= \"Sheet8\")\n",
    "Original = df.copy()\n",
    "df.head()"
   ]
  },
  {
   "cell_type": "markdown",
   "metadata": {},
   "source": [
    "# Visualising Change in gdp_per_capita(2011 -1991) vs Change in Suicide rate(2011 -1991)"
   ]
  },
  {
   "cell_type": "code",
   "execution_count": 9,
   "metadata": {},
   "outputs": [
    {
     "data": {
      "text/plain": [
       "<matplotlib.axes._subplots.AxesSubplot at 0x3c614c6e48>"
      ]
     },
     "execution_count": 9,
     "metadata": {},
     "output_type": "execute_result"
    },
    {
     "data": {
      "image/png": "[encoded data removed]",
      "text/plain": [
       "<Figure size 432x288 with 1 Axes>"
      ]
     },
     "metadata": {
      "needs_background": "light"
     },
     "output_type": "display_data"
    }
   ],
   "source": [
    "sns.scatterplot(x=df[\"Change in gdp_per_capita(2011 -1991)\"], y= df[\"Change in Suicide rate(2011 -1991)\"] ,data = df)"
   ]
  },
  {
   "cell_type": "code",
   "execution_count": 10,
   "metadata": {},
   "outputs": [
    {
     "data": {
      "text/plain": [
       "<matplotlib.axes._subplots.AxesSubplot at 0x3c614fce48>"
      ]
     },
     "execution_count": 10,
     "metadata": {},
     "output_type": "execute_result"
    },
    {
     "data": {
      "image/png": "[encoded data removed]",
      "text/plain": [
       "<Figure size 432x288 with 1 Axes>"
      ]
     },
     "metadata": {
      "needs_background": "light"
     },
     "output_type": "display_data"
    }
   ],
   "source": [
    "sns.regplot(x=df[\"Change in gdp_per_capita(2011 -1991)\"], y= df[\"Change in Suicide rate(2011 -1991)\"] ,data = df)"
   ]
  },
  {
   "cell_type": "markdown",
   "metadata": {},
   "source": [
    "# Modelling change regression"
   ]
  },
  {
   "cell_type": "code",
   "execution_count": 11,
   "metadata": {},
   "outputs": [
    {
     "name": "stderr",
     "output_type": "stream",
     "text": [
      "C:\\Users\\Arun-Windows\\Anaconda3\\lib\\site-packages\\numpy\\core\\fromnumeric.py:2389: FutureWarning: Method .ptp is deprecated and will be removed in a future version. Use numpy.ptp instead.\n",
      "  return ptp(axis=axis, out=out, **kwargs)\n"
     ]
    },
    {
     "data": {
      "text/html": [
       "<table class=\"simpletable\">\n",
       "<caption>OLS Regression Results</caption>\n",
       "<tr>\n",
       "  <th>Dep. Variable:</th>    <td>Change in Suicide rate(2011 -1991)</td> <th>  R-squared:         </th> <td>   0.295</td>\n",
       "</tr>\n",
       "<tr>\n",
       "  <th>Model:</th>                            <td>OLS</td>                <th>  Adj. R-squared:    </th> <td>   0.274</td>\n",
       "</tr>\n",
       "<tr>\n",
       "  <th>Method:</th>                      <td>Least Squares</td>           <th>  F-statistic:       </th> <td>   13.84</td>\n",
       "</tr>\n",
       "<tr>\n",
       "  <th>Date:</th>                      <td>Wed, 10 Jun 2020</td>          <th>  Prob (F-statistic):</th> <td>0.000740</td>\n",
       "</tr>\n",
       "<tr>\n",
       "  <th>Time:</th>                          <td>14:38:53</td>              <th>  Log-Likelihood:    </th> <td> -99.754</td>\n",
       "</tr>\n",
       "<tr>\n",
       "  <th>No. Observations:</th>               <td>    35</td>               <th>  AIC:               </th> <td>   203.5</td>\n",
       "</tr>\n",
       "<tr>\n",
       "  <th>Df Residuals:</th>                   <td>    33</td>               <th>  BIC:               </th> <td>   206.6</td>\n",
       "</tr>\n",
       "<tr>\n",
       "  <th>Df Model:</th>                       <td>     1</td>               <th>                     </th>     <td> </td>   \n",
       "</tr>\n",
       "<tr>\n",
       "  <th>Covariance Type:</th>               <td>nonrobust</td>             <th>                     </th>     <td> </td>   \n",
       "</tr>\n",
       "</table>\n",
       "<table class=\"simpletable\">\n",
       "<tr>\n",
       "                    <td></td>                      <th>coef</th>     <th>std err</th>      <th>t</th>      <th>P>|t|</th>  <th>[0.025</th>    <th>0.975]</th>  \n",
       "</tr>\n",
       "<tr>\n",
       "  <th>const</th>                                <td>    1.0671</td> <td>    1.354</td> <td>    0.788</td> <td> 0.436</td> <td>   -1.687</td> <td>    3.822</td>\n",
       "</tr>\n",
       "<tr>\n",
       "  <th>Change in gdp_per_capita(2011 -1991)</th> <td>   -0.0003</td> <td> 7.92e-05</td> <td>   -3.720</td> <td> 0.001</td> <td>   -0.000</td> <td>   -0.000</td>\n",
       "</tr>\n",
       "</table>\n",
       "<table class=\"simpletable\">\n",
       "<tr>\n",
       "  <th>Omnibus:</th>       <td> 1.889</td> <th>  Durbin-Watson:     </th> <td>   2.128</td>\n",
       "</tr>\n",
       "<tr>\n",
       "  <th>Prob(Omnibus):</th> <td> 0.389</td> <th>  Jarque-Bera (JB):  </th> <td>   1.325</td>\n",
       "</tr>\n",
       "<tr>\n",
       "  <th>Skew:</th>          <td>-0.477</td> <th>  Prob(JB):          </th> <td>   0.516</td>\n",
       "</tr>\n",
       "<tr>\n",
       "  <th>Kurtosis:</th>      <td> 3.001</td> <th>  Cond. No.          </th> <td>3.18e+04</td>\n",
       "</tr>\n",
       "</table><br/><br/>Warnings:<br/>[1] Standard Errors assume that the covariance matrix of the errors is correctly specified.<br/>[2] The condition number is large, 3.18e+04. This might indicate that there are<br/>strong multicollinearity or other numerical problems."
      ],
      "text/plain": [
       "<class 'statsmodels.iolib.summary.Summary'>\n",
       "\"\"\"\n",
       "                                    OLS Regression Results                                    \n",
       "==============================================================================================\n",
       "Dep. Variable:     Change in Suicide rate(2011 -1991)   R-squared:                       0.295\n",
       "Model:                                            OLS   Adj. R-squared:                  0.274\n",
       "Method:                                 Least Squares   F-statistic:                     13.84\n",
       "Date:                                Wed, 10 Jun 2020   Prob (F-statistic):           0.000740\n",
       "Time:                                        14:38:53   Log-Likelihood:                -99.754\n",
       "No. Observations:                                  35   AIC:                             203.5\n",
       "Df Residuals:                                      33   BIC:                             206.6\n",
       "Df Model:                                           1                                         \n",
       "Covariance Type:                            nonrobust                                         \n",
       "========================================================================================================\n",
       "                                           coef    std err          t      P>|t|      [0.025      0.975]\n",
       "--------------------------------------------------------------------------------------------------------\n",
       "const                                    1.0671      1.354      0.788      0.436      -1.687       3.822\n",
       "Change in gdp_per_capita(2011 -1991)    -0.0003   7.92e-05     -3.720      0.001      -0.000      -0.000\n",
       "==============================================================================\n",
       "Omnibus:                        1.889   Durbin-Watson:                   2.128\n",
       "Prob(Omnibus):                  0.389   Jarque-Bera (JB):                1.325\n",
       "Skew:                          -0.477   Prob(JB):                        0.516\n",
       "Kurtosis:                       3.001   Cond. No.                     3.18e+04\n",
       "==============================================================================\n",
       "\n",
       "Warnings:\n",
       "[1] Standard Errors assume that the covariance matrix of the errors is correctly specified.\n",
       "[2] The condition number is large, 3.18e+04. This might indicate that there are\n",
       "strong multicollinearity or other numerical problems.\n",
       "\"\"\""
      ]
     },
     "execution_count": 11,
     "metadata": {},
     "output_type": "execute_result"
    }
   ],
   "source": [
    "import statsmodels.api as sm\n",
    "\n",
    "X = df[\"Change in gdp_per_capita(2011 -1991)\"]\n",
    "Y = df[\"Change in Suicide rate(2011 -1991)\"]\n",
    "X = sm.add_constant(X)\n",
    "\n",
    "ols= sm.OLS(endog=Y, exog = X)\n",
    "\n",
    "result = ols.fit()\n",
    "\n",
    "result.summary()"
   ]
  }
 ],
 "metadata": {
  "kernelspec": {
   "display_name": "Python 3",
   "language": "python",
   "name": "python3"
  },
  "language_info": {
   "codemirror_mode": {
    "name": "ipython",
    "version": 3
   },
   "file_extension": ".py",
   "mimetype": "text/x-python",
   "name": "python",
   "nbconvert_exporter": "python",
   "pygments_lexer": "ipython3",
   "version": "3.7.4"
  }
 },
 "nbformat": 4,
 "nbformat_minor": 2
}
